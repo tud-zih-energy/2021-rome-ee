{
 "cells": [
  {
   "cell_type": "code",
   "execution_count": 6,
   "metadata": {},
   "outputs": [
    {
     "name": "stdout",
     "output_type": "stream",
     "text": [
      "/home/rschoene/projekte/paper/2020-rome-ee/measurements/mixed-freq\n"
     ]
    }
   ],
   "source": [
    "import pandas as pd\n",
    "import matplotlib.pyplot as plt\n",
    "import os\n",
    "\n",
    "print (os.getcwd())\n",
    "\n",
    "frequencies = [1500,2200,2500]"
   ]
  },
  {
   "cell_type": "code",
   "execution_count": 16,
   "metadata": {},
   "outputs": [
    {
     "name": "stdout",
     "output_type": "stream",
     "text": [
      "start=1500\n",
      "target=1500\n",
      "# started on Mon Nov 23 10:28:32 2020    0.577135\n",
      "dtype: float64\n",
      "target=1500\n",
      "# started on Mon Nov 23 10:30:32 2020    0.218779\n",
      "dtype: float64\n",
      "target=1500\n",
      "# started on Mon Nov 23 10:32:33 2020    0.13411\n",
      "dtype: float64\n",
      "start=2200\n",
      "target=2200\n",
      "# started on Mon Nov 23 10:34:35 2020    0.908942\n",
      "dtype: float64\n",
      "target=2200\n",
      "# started on Mon Nov 23 10:36:36 2020    0.711993\n",
      "dtype: float64\n",
      "target=2200\n",
      "# started on Mon Nov 23 10:38:36 2020    0.601062\n",
      "dtype: float64\n",
      "start=2500\n",
      "target=2500\n",
      "# started on Mon Nov 23 10:40:38 2020    1.755716\n",
      "dtype: float64\n",
      "target=2500\n",
      "# started on Mon Nov 23 10:42:39 2020    1.923964\n",
      "dtype: float64\n",
      "target=2500\n",
      "# started on Mon Nov 23 10:44:40 2020    1.974236\n",
      "dtype: float64\n"
     ]
    }
   ],
   "source": [
    "\n",
    "for f_core0 in frequencies:\n",
    "    print ('start='+str(f_core0))\n",
    "    for f_others in frequencies:\n",
    "        print ('target='+str(f_core0))\n",
    "        data = pd.read_csv('mixed_'+str(f_core0)+'_'+str(f_others)+'.csv', sep=',', usecols=[1])\n",
    "        print ('freq='+str(data.min())+str(data.median())+str(data.max()))\n",
    "        print ( data.std()/1E6)\n",
    "        "
   ]
  },
  {
   "cell_type": "code",
   "execution_count": null,
   "metadata": {},
   "outputs": [],
   "source": []
  }
 ],
 "metadata": {
  "kernelspec": {
   "display_name": "Python 3",
   "language": "python",
   "name": "python3"
  },
  "language_info": {
   "codemirror_mode": {
    "name": "ipython",
    "version": 3
   },
   "file_extension": ".py",
   "mimetype": "text/x-python",
   "name": "python",
   "nbconvert_exporter": "python",
   "pygments_lexer": "ipython3",
   "version": "3.8.6"
  }
 },
 "nbformat": 4,
 "nbformat_minor": 4
}
