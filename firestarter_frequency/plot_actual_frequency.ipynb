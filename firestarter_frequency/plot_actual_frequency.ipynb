{
 "cells": [
  {
   "cell_type": "code",
   "execution_count": 5,
   "metadata": {},
   "outputs": [],
   "source": [
    "import pandas as pd\n",
    "import seaborn as sns\n",
    "import matplotlib.pyplot as plt\n",
    "import numpy as np\n",
    "import csv"
   ]
  },
  {
   "cell_type": "code",
   "execution_count": 12,
   "metadata": {},
   "outputs": [],
   "source": [
    "RUNTIME = 240\n",
    "NOMINAL_FREQUENCY = 2.5e9\n",
    "CORES = 64\n",
    "POWER_SCALER = 550\n",
    "PERIOD = 1\n",
    "FREQ_NAME = 'frequency normalized to nominal frequency'\n",
    "IPC_NAME = 'instructions per cycle on one core normalized\\nto maximal throughput of four instructions'\n",
    "PREFIX = 'nominal'"
   ]
  },
  {
   "cell_type": "code",
   "execution_count": 13,
   "metadata": {},
   "outputs": [],
   "source": [
    "def get_power(name):\n",
    "    with open(f'datafiles/{PREFIX}-{name}-power.csv') as fp:\n",
    "        reader = csv.DictReader(fp)\n",
    "        data = next(reader)\n",
    "        return [ float(data['average']), float(data['stddev']) ]"
   ]
  },
  {
   "cell_type": "code",
   "execution_count": 14,
   "metadata": {},
   "outputs": [],
   "source": [
    "def get_perf(name):\n",
    "    with open(f'datafiles/{PREFIX}-{name}-perf.data') as fp:\n",
    "        reader = csv.reader(fp, delimiter='!')\n",
    "        # skip the two blank lines\n",
    "        next(reader)\n",
    "        next(reader)\n",
    "        l = []\n",
    "        for row in reader:\n",
    "            timestamp, socket, cores, value, _, metric, _, _, _, _ = row\n",
    "            l.append({'time': timestamp, 'socket': socket, 'value': float(value), 'metric': metric})\n",
    "        # cut away the last two seconds\n",
    "        l = l[:-4]\n",
    "        \n",
    "        df = pd.pivot_table(pd.DataFrame(l), index=['time','socket'], columns='metric', values='value')\n",
    "        df['IPC'] = df['instructions'] / df['cpu-cycles']\n",
    "        if name.startswith('no-ht'):\n",
    "            scaler = 2\n",
    "        else:\n",
    "            scaler = 1\n",
    "        df[IPC_NAME] = df['IPC'] / 2 / scaler\n",
    "        df[FREQ_NAME] = df['cpu-cycles'] / PERIOD / NOMINAL_FREQUENCY / CORES * scaler\n",
    "        \n",
    "        df = df.reset_index().drop(columns=['IPC', 'instructions', 'cpu-cycles'])\n",
    "        df['name'] = name\n",
    "        df = df.set_index(['socket', 'name'])\n",
    "        return df"
   ]
  },
  {
   "cell_type": "code",
   "execution_count": 15,
   "metadata": {
    "scrolled": false
   },
   "outputs": [
    {
     "name": "stdout",
     "output_type": "stream",
     "text": [
      "             name                                             Metric     value\n",
      "0        with SMT          frequency normalized to nominal frequency  0.809569\n",
      "1        with SMT          frequency normalized to nominal frequency  0.815321\n",
      "2        with SMT          frequency normalized to nominal frequency  0.809845\n",
      "3        with SMT          frequency normalized to nominal frequency  0.815803\n",
      "4        with SMT          frequency normalized to nominal frequency  0.808248\n",
      "...           ...                                                ...       ...\n",
      "1879  without SMT  instructions per cycle on one core normalized\\...  0.804353\n",
      "1880  without SMT  instructions per cycle on one core normalized\\...  0.813424\n",
      "1881  without SMT  instructions per cycle on one core normalized\\...  0.804363\n",
      "2824     with SMT                                              power  0.924616\n",
      "2825  without SMT                                              power  0.888791\n",
      "\n",
      "[1882 rows x 3 columns]\n",
      "Rectangle(xy=(-0.4, 0), width=0.266667, height=0.811205, angle=0) 2.5 2.03\n",
      "Rectangle(xy=(-0.133333, 0), width=0.266667, height=0.891112, angle=0) 4 3.56\n",
      "Rectangle(xy=(0.133333, 0), width=0.266667, height=0.924616, angle=0) 550 509\n",
      "Rectangle(xy=(0.6, 0), width=0.266667, height=0.841426, angle=0) 2.5 2.1\n",
      "Rectangle(xy=(0.866667, 0), width=0.266667, height=0.80851, angle=0) 4 3.23\n",
      "Rectangle(xy=(1.13333, 0), width=0.266667, height=0.888791, angle=0) 550 489\n",
      "power stddev with SMT: 2.72947\n",
      "power stddev without SMT: 3.1577\n"
     ]
    },
    {
     "name": "stderr",
     "output_type": "stream",
     "text": [
      "<ipython-input-15-ea7f71b5a3ea>:47: UserWarning: FixedFormatter should only be used together with FixedLocator\n",
      "  ax2.set_yticklabels(np.array(ax1.get_yticks()*POWER_SCALER, dtype='int'))\n"
     ]
    },
    {
     "data": {
      "image/png": "[encoded data removed]",
      "text/plain": [
       "<Figure size 432x252 with 2 Axes>"
      ]
     },
     "metadata": {
      "needs_background": "light"
     },
     "output_type": "display_data"
    }
   ],
   "source": [
    "ht_power = get_power('ht')[0]\n",
    "no_ht_power = get_power('no-ht')[0]\n",
    "ht_perf = get_perf('ht')\n",
    "no_ht_perf = get_perf('no-ht')\n",
    "\n",
    "df = pd.DataFrame(ht_perf)\n",
    "df = df.append(no_ht_perf)\n",
    "df = df.reset_index()\n",
    "df = df.append({'name': 'ht', 'power': ht_power}, ignore_index=True)\n",
    "df = df.append({'name': 'no-ht', 'power': no_ht_power}, ignore_index=True)\n",
    "\n",
    "df['power'] = df['power'] / POWER_SCALER\n",
    "\n",
    "melt = pd.melt(df, id_vars=['name'], value_vars=[FREQ_NAME, IPC_NAME, 'power']).dropna()\n",
    "melt = melt.rename(columns={'variable': 'Metric'})\n",
    "rename = {'no-ht': 'without SMT', 'ht': 'with SMT'}\n",
    "melt.name = melt.name.apply(lambda name: rename[name])\n",
    "\n",
    "print(melt)\n",
    "\n",
    "parameters = {\n",
    "          'axes.labelsize': 12,\n",
    "          'axes.titlesize': 12,\n",
    "          'xtick.labelsize': 12,\n",
    "          'ytick.labelsize': 12,\n",
    "          'legend.fontsize' : 12,\n",
    "          'legend.title_fontsize' : 12,\n",
    "          'lines.linewidth' : 1,\n",
    " }\n",
    "plt.rcParams.update(parameters)\n",
    "\n",
    "fig, ax = plt.subplots(figsize = (6, 3.5))\n",
    "\n",
    "\n",
    "\n",
    "colors = sns.color_palette()\n",
    "colors = [colors[1], colors[0], colors[2]]\n",
    "\n",
    "sns.set_palette(sns.color_palette(colors))\n",
    "\n",
    "ax1 = sns.barplot(x='name', y=\"value\", hue=\"Metric\", data=melt, ax=ax, capsize=.2,  ci=\"sd\")\n",
    "ax1.set_ylim(ymin=0, ymax=1)\n",
    "ax1.set_ylabel('Relative Performance')\n",
    "ax1.set(xlabel=None)\n",
    "ax2 = ax1.twinx()\n",
    "ax2.set_ylim(ax1.get_ylim())\n",
    "ax2.set_yticklabels(np.array(ax1.get_yticks()*POWER_SCALER, dtype='int'))\n",
    "ax2.set_ylabel('Power [W]')\n",
    "\n",
    "mul = [NOMINAL_FREQUENCY / 1e9, 4, POWER_SCALER, NOMINAL_FREQUENCY / 1e9, 4, POWER_SCALER]\n",
    "\n",
    "bars = list(ax1.patches)\n",
    "bars.sort(key=lambda bar: bar.get_x())\n",
    "\n",
    "for bar, mul in zip(bars, mul):\n",
    "    num = bar.get_height() * mul\n",
    "    if num > 100:\n",
    "        num = int(round(num, 0))\n",
    "    else:        \n",
    "        num = round(num, 2)\n",
    "    print(bar, mul, num)\n",
    "    ax.text(bar.get_x() + bar.get_width() / 2, bar.get_y() + bar.get_height() - 0.075, str(num),\n",
    "            color='white', va='center', ha='center', fontsize=12, fontweight='bold')\n",
    "    \n",
    "print(f\"power stddev with SMT: {get_power('ht')[1]}\")\n",
    "print(f\"power stddev without SMT: {get_power('no-ht')[1]}\")\n",
    "\n",
    "plt.savefig('../../paper/fig/firestarter_frequency.pdf', bbox_inches='tight')"
   ]
  },
  {
   "cell_type": "code",
   "execution_count": null,
   "metadata": {
    "scrolled": true
   },
   "outputs": [],
   "source": [
    "round(np.std(melt[melt.name == \"with SMT\"][melt.metric == FREQ_NAME].value * 1000), 2)"
   ]
  },
  {
   "cell_type": "code",
   "execution_count": 7,
   "metadata": {},
   "outputs": [
    {
     "name": "stderr",
     "output_type": "stream",
     "text": [
      "/nix/store/zdxy58fzw4vzxxhjgvs8sbwmk6cfbnkw-python3-3.7.9-env/lib/python3.7/site-packages/ipykernel_launcher.py:1: UserWarning: Boolean Series key will be reindexed to match DataFrame index.\n",
      "  \"\"\"Entry point for launching an IPython kernel.\n"
     ]
    },
    {
     "data": {
      "text/plain": [
       "0.82"
      ]
     },
     "execution_count": 7,
     "metadata": {},
     "output_type": "execute_result"
    }
   ],
   "source": [
    "round(np.std(melt[melt.name == \"without SMT\"][melt.metric == FREQ_NAME].value * 1000), 2)"
   ]
  },
  {
   "cell_type": "code",
   "execution_count": 8,
   "metadata": {},
   "outputs": [
    {
     "name": "stderr",
     "output_type": "stream",
     "text": [
      "/nix/store/zdxy58fzw4vzxxhjgvs8sbwmk6cfbnkw-python3-3.7.9-env/lib/python3.7/site-packages/ipykernel_launcher.py:1: UserWarning: Boolean Series key will be reindexed to match DataFrame index.\n",
      "  \"\"\"Entry point for launching an IPython kernel.\n"
     ]
    },
    {
     "data": {
      "text/plain": [
       "0.008"
      ]
     },
     "execution_count": 8,
     "metadata": {},
     "output_type": "execute_result"
    }
   ],
   "source": [
    "round(np.std(melt[melt.name == \"with SMT\"][melt.metric == IPC_NAME].value), 3)"
   ]
  },
  {
   "cell_type": "code",
   "execution_count": 9,
   "metadata": {},
   "outputs": [
    {
     "name": "stderr",
     "output_type": "stream",
     "text": [
      "/nix/store/zdxy58fzw4vzxxhjgvs8sbwmk6cfbnkw-python3-3.7.9-env/lib/python3.7/site-packages/ipykernel_launcher.py:1: UserWarning: Boolean Series key will be reindexed to match DataFrame index.\n",
      "  \"\"\"Entry point for launching an IPython kernel.\n"
     ]
    },
    {
     "data": {
      "text/plain": [
       "0.004"
      ]
     },
     "execution_count": 9,
     "metadata": {},
     "output_type": "execute_result"
    }
   ],
   "source": [
    "round(np.std(melt[melt.name == \"without SMT\"][melt.metric == IPC_NAME].value), 3)"
   ]
  }
 ],
 "metadata": {
  "kernelspec": {
   "display_name": "Python 3",
   "language": "python",
   "name": "python3"
  },
  "language_info": {
   "codemirror_mode": {
    "name": "ipython",
    "version": 3
   },
   "file_extension": ".py",
   "mimetype": "text/x-python",
   "name": "python",
   "nbconvert_exporter": "python",
   "pygments_lexer": "ipython3",
   "version": "3.8.5"
  }
 },
 "nbformat": 4,
 "nbformat_minor": 4
}
