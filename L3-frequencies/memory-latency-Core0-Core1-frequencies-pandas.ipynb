{
 "cells": [
  {
   "cell_type": "markdown",
   "metadata": {},
   "source": [
    "# L3 Latencies, accesses by Core 0, Frequencies of Core 0 and 1 altered, Conway, I/O-Die in p-state P0"
   ]
  },
  {
   "cell_type": "markdown",
   "metadata": {},
   "source": [
    "## Load necessary depencencies"
   ]
  },
  {
   "cell_type": "code",
   "execution_count": 1,
   "metadata": {},
   "outputs": [],
   "source": [
    "import numpy\n",
    "import csv\n",
    "import re\n",
    "import os\n",
    "import subprocess\n",
    "import matplotlib.pyplot as plt\n",
    "import matplotlib\n",
    "from matplotlib.backends.backend_pdf import PdfPages\n",
    "import pandas\n",
    "from pylab import rcParams\n",
    "import seaborn as sns"
   ]
  },
  {
   "cell_type": "markdown",
   "metadata": {},
   "source": [
    "## Define functions"
   ]
  },
  {
   "cell_type": "code",
   "execution_count": 2,
   "metadata": {},
   "outputs": [],
   "source": [
    "def savefig(name, **kwargs):\n",
    "    fn = \"{}.pdf\".format(name)\n",
    "    pp = PdfPages(fn)\n",
    "    pp.savefig(dpi=1200, bbox_inches=\"tight\", **kwargs)\n",
    "    pp.close()\n",
    "    print(\"saving and cropping \", fn)\n",
    "    subprocess.run([\"pdfcrop\", fn, fn])"
   ]
  },
  {
   "cell_type": "code",
   "execution_count": 3,
   "metadata": {},
   "outputs": [],
   "source": [
    "# generate lists of files with files according to search parameters\n",
    "def listgenerator (filelist, startstring, searchpara, retlist):\n",
    "\n",
    "    searchpara = searchpara + \"\\\"\"\n",
    "    \n",
    "    for file in filelist:\n",
    "        for line in open(file):\n",
    "            if line.startswith(startstring):\n",
    "                if searchpara in line:\n",
    "                    retlist.append(file)"
   ]
  },
  {
   "cell_type": "code",
   "execution_count": 4,
   "metadata": {},
   "outputs": [],
   "source": [
    "def read_file(file):\n",
    "    coreline = \"BENCHIT_KERNEL_CPU_LIST=\\\"0\\\"\"\n",
    "\n",
    "    core_found = False\n",
    "    data_found = False\n",
    "    \n",
    "    rows = []\n",
    "    \n",
    "    for line in open(file):\n",
    "        if line.startswith('comment='):\n",
    "            regex = r\"comment=\\\"Core0 at (?P<freq0>\\d*)MHz, Core1 at (?P<freq1>\\d*)MHz\\\"\"\n",
    "            matches = re.search(regex, line)\n",
    "            \n",
    "            if matches:\n",
    "                freq0 = int(matches.groupdict()[\"freq0\"])\n",
    "                freq1 = int(matches.groupdict()[\"freq1\"])\n",
    "                \n",
    "\n",
    "        # check if file has data for core\n",
    "        if line.startswith(coreline):\n",
    "            core_found = True\n",
    "\n",
    "        # data begins after \"beginofdata\" string, only search for this when coreline has been found in file\n",
    "        if line.startswith(\"beginofdata\") and core_found == True:\n",
    "            data_found = True\n",
    "            continue\n",
    "\n",
    "    \n",
    "        # append data to values array, make sure that no strings are appended\n",
    "        if data_found == True and not line.startswith(\"endofdata\") and not line.startswith(\"beginofdata\"):\n",
    "\n",
    "            # data for core 0 is taken from file that contains data for cores 0,1\n",
    "            # data for core 0 can be found in col. index 1, every other core in col. index 2\n",
    "            \n",
    "            latency = float(line.split()[2])\n",
    "            size = str(line.split()[0])\n",
    "            \n",
    "            rows.append({\n",
    "                \"core0_freq\": freq0,\n",
    "                \"core1_freq\": freq1,\n",
    "                \"latency_ns\": latency,\n",
    "                \"latency_cycle\": latency * freq0 / 1000,\n",
    "                \"size\": size,\n",
    "            })\n",
    "            \n",
    "    return rows"
   ]
  },
  {
   "cell_type": "markdown",
   "metadata": {},
   "source": [
    "## Create file lists"
   ]
  },
  {
   "cell_type": "code",
   "execution_count": 5,
   "metadata": {},
   "outputs": [],
   "source": [
    "# get list of all files in directory\n",
    "paths = ['datafiles-base_1500MHz', 'datafiles-base_2200MHz', 'datafiles-base_2500MHz' ]\n",
    "\n",
    "filelist = [],[],[]\n",
    "\n",
    "for index, path in enumerate(paths):\n",
    "    for entry in os.scandir(path):\n",
    "        filelist[index].append(entry.path)\n"
   ]
  },
  {
   "cell_type": "code",
   "execution_count": 6,
   "metadata": {},
   "outputs": [
    {
     "name": "stdout",
     "output_type": "stream",
     "text": [
      "Files in list for state M: 90\n",
      "Files in list for state M: 90\n",
      "Files in list for state M: 90\n"
     ]
    }
   ],
   "source": [
    "files = [],[],[] # 0 = M, 1 = (E|U), 2 = S, 3 = E, 4 = I\n",
    "state = 'M'\n",
    "\n",
    "for index, path in enumerate(paths):\n",
    "    listgenerator(filelist[index], 'BENCHIT_KERNEL_USE_MODE', state, files[index])\n",
    "\n",
    "    print(\"Files in list for state \" + str(state) + \": \" + str(len(files[index])))"
   ]
  },
  {
   "cell_type": "markdown",
   "metadata": {},
   "source": [
    "## Process data"
   ]
  },
  {
   "cell_type": "code",
   "execution_count": 7,
   "metadata": {},
   "outputs": [
    {
     "data": {
      "text/html": [
       "<div>\n",
       "<style scoped>\n",
       "    .dataframe tbody tr th:only-of-type {\n",
       "        vertical-align: middle;\n",
       "    }\n",
       "\n",
       "    .dataframe tbody tr th {\n",
       "        vertical-align: top;\n",
       "    }\n",
       "\n",
       "    .dataframe thead th {\n",
       "        text-align: right;\n",
       "    }\n",
       "</style>\n",
       "<table border=\"1\" class=\"dataframe\">\n",
       "  <thead>\n",
       "    <tr style=\"text-align: right;\">\n",
       "      <th></th>\n",
       "      <th>core0_freq</th>\n",
       "      <th>core1_freq</th>\n",
       "      <th>latency_ns</th>\n",
       "      <th>latency_cycle</th>\n",
       "      <th>size</th>\n",
       "      <th>Frequency of Reading Core [GHz]</th>\n",
       "      <th>Latency [ns]</th>\n",
       "      <th>Frequency of Remaining Cores</th>\n",
       "    </tr>\n",
       "  </thead>\n",
       "  <tbody>\n",
       "    <tr>\n",
       "      <th>1</th>\n",
       "      <td>2200</td>\n",
       "      <td>2200</td>\n",
       "      <td>17.2021</td>\n",
       "      <td>37.84462</td>\n",
       "      <td>3.26407e+06</td>\n",
       "      <td>2.2</td>\n",
       "      <td>17.2021</td>\n",
       "      <td>2.2 GHz</td>\n",
       "    </tr>\n",
       "    <tr>\n",
       "      <th>7</th>\n",
       "      <td>1500</td>\n",
       "      <td>2200</td>\n",
       "      <td>22.0025</td>\n",
       "      <td>33.00375</td>\n",
       "      <td>3.26407e+06</td>\n",
       "      <td>1.5</td>\n",
       "      <td>22.0025</td>\n",
       "      <td>2.2 GHz</td>\n",
       "    </tr>\n",
       "    <tr>\n",
       "      <th>13</th>\n",
       "      <td>2200</td>\n",
       "      <td>2200</td>\n",
       "      <td>17.2011</td>\n",
       "      <td>37.84242</td>\n",
       "      <td>3.26407e+06</td>\n",
       "      <td>2.2</td>\n",
       "      <td>17.2011</td>\n",
       "      <td>2.2 GHz</td>\n",
       "    </tr>\n",
       "    <tr>\n",
       "      <th>19</th>\n",
       "      <td>2500</td>\n",
       "      <td>1500</td>\n",
       "      <td>15.2016</td>\n",
       "      <td>38.00400</td>\n",
       "      <td>3.26407e+06</td>\n",
       "      <td>2.5</td>\n",
       "      <td>15.2016</td>\n",
       "      <td>1.5 GHz</td>\n",
       "    </tr>\n",
       "    <tr>\n",
       "      <th>25</th>\n",
       "      <td>2200</td>\n",
       "      <td>1500</td>\n",
       "      <td>17.2035</td>\n",
       "      <td>37.84770</td>\n",
       "      <td>3.26407e+06</td>\n",
       "      <td>2.2</td>\n",
       "      <td>17.2035</td>\n",
       "      <td>1.5 GHz</td>\n",
       "    </tr>\n",
       "    <tr>\n",
       "      <th>...</th>\n",
       "      <td>...</td>\n",
       "      <td>...</td>\n",
       "      <td>...</td>\n",
       "      <td>...</td>\n",
       "      <td>...</td>\n",
       "      <td>...</td>\n",
       "      <td>...</td>\n",
       "      <td>...</td>\n",
       "    </tr>\n",
       "    <tr>\n",
       "      <th>511</th>\n",
       "      <td>2500</td>\n",
       "      <td>2200</td>\n",
       "      <td>15.2013</td>\n",
       "      <td>38.00325</td>\n",
       "      <td>3.26407e+06</td>\n",
       "      <td>2.5</td>\n",
       "      <td>15.2013</td>\n",
       "      <td>2.2 GHz</td>\n",
       "    </tr>\n",
       "    <tr>\n",
       "      <th>517</th>\n",
       "      <td>2500</td>\n",
       "      <td>2200</td>\n",
       "      <td>15.2002</td>\n",
       "      <td>38.00050</td>\n",
       "      <td>3.26407e+06</td>\n",
       "      <td>2.5</td>\n",
       "      <td>15.2002</td>\n",
       "      <td>2.2 GHz</td>\n",
       "    </tr>\n",
       "    <tr>\n",
       "      <th>523</th>\n",
       "      <td>2200</td>\n",
       "      <td>2200</td>\n",
       "      <td>17.6014</td>\n",
       "      <td>38.72308</td>\n",
       "      <td>3.26407e+06</td>\n",
       "      <td>2.2</td>\n",
       "      <td>17.6014</td>\n",
       "      <td>2.2 GHz</td>\n",
       "    </tr>\n",
       "    <tr>\n",
       "      <th>529</th>\n",
       "      <td>2500</td>\n",
       "      <td>2200</td>\n",
       "      <td>15.2009</td>\n",
       "      <td>38.00225</td>\n",
       "      <td>3.26407e+06</td>\n",
       "      <td>2.5</td>\n",
       "      <td>15.2009</td>\n",
       "      <td>2.2 GHz</td>\n",
       "    </tr>\n",
       "    <tr>\n",
       "      <th>535</th>\n",
       "      <td>1500</td>\n",
       "      <td>1500</td>\n",
       "      <td>25.6013</td>\n",
       "      <td>38.40195</td>\n",
       "      <td>3.26407e+06</td>\n",
       "      <td>1.5</td>\n",
       "      <td>25.6013</td>\n",
       "      <td>1.5 GHz</td>\n",
       "    </tr>\n",
       "  </tbody>\n",
       "</table>\n",
       "<p>90 rows × 8 columns</p>\n",
       "</div>"
      ],
      "text/plain": [
       "     core0_freq  core1_freq  latency_ns  latency_cycle         size  \\\n",
       "1          2200        2200     17.2021       37.84462  3.26407e+06   \n",
       "7          1500        2200     22.0025       33.00375  3.26407e+06   \n",
       "13         2200        2200     17.2011       37.84242  3.26407e+06   \n",
       "19         2500        1500     15.2016       38.00400  3.26407e+06   \n",
       "25         2200        1500     17.2035       37.84770  3.26407e+06   \n",
       "..          ...         ...         ...            ...          ...   \n",
       "511        2500        2200     15.2013       38.00325  3.26407e+06   \n",
       "517        2500        2200     15.2002       38.00050  3.26407e+06   \n",
       "523        2200        2200     17.6014       38.72308  3.26407e+06   \n",
       "529        2500        2200     15.2009       38.00225  3.26407e+06   \n",
       "535        1500        1500     25.6013       38.40195  3.26407e+06   \n",
       "\n",
       "     Frequency of Reading Core [GHz]  Latency [ns]  \\\n",
       "1                                2.2       17.2021   \n",
       "7                                1.5       22.0025   \n",
       "13                               2.2       17.2011   \n",
       "19                               2.5       15.2016   \n",
       "25                               2.2       17.2035   \n",
       "..                               ...           ...   \n",
       "511                              2.5       15.2013   \n",
       "517                              2.5       15.2002   \n",
       "523                              2.2       17.6014   \n",
       "529                              2.5       15.2009   \n",
       "535                              1.5       25.6013   \n",
       "\n",
       "    Frequency of Remaining Cores  \n",
       "1                        2.2 GHz  \n",
       "7                        2.2 GHz  \n",
       "13                       2.2 GHz  \n",
       "19                       1.5 GHz  \n",
       "25                       1.5 GHz  \n",
       "..                           ...  \n",
       "511                      2.2 GHz  \n",
       "517                      2.2 GHz  \n",
       "523                      2.2 GHz  \n",
       "529                      2.2 GHz  \n",
       "535                      1.5 GHz  \n",
       "\n",
       "[90 rows x 8 columns]"
      ]
     },
     "execution_count": 7,
     "metadata": {},
     "output_type": "execute_result"
    }
   ],
   "source": [
    "size = '3.26407e+06'\n",
    "\n",
    "_freq0 = \"Frequency of Reading Core [GHz]\"\n",
    "_freq1 = \"Frequency of Remaining Cores\"\n",
    "_latency = \"Latency [ns]\"\n",
    "\n",
    "\n",
    "df = pandas.DataFrame()\n",
    "\n",
    "for file in files[0]:\n",
    "    rows = read_file(file)   \n",
    "    df = df.append(rows, ignore_index=True)\n",
    "  \n",
    "df[_freq0] = df.core0_freq / 1000\n",
    "#df[_freq1] = df.core1_freq / 1000\n",
    "df[_latency] = df.latency_ns\n",
    "\n",
    "df[_freq1] = df.core1_freq.apply(lambda x: {\n",
    "    1500: \"1.5 GHz\",\n",
    "    2200: \"2.2 GHz\",\n",
    "    2500: \"2.5 GHz\",\n",
    "}[x])\n",
    "\n",
    "df = df[df[\"size\"] == size]\n",
    "\n",
    "df"
   ]
  },
  {
   "cell_type": "markdown",
   "metadata": {},
   "source": [
    "## Plot Data"
   ]
  },
  {
   "cell_type": "code",
   "execution_count": 12,
   "metadata": {},
   "outputs": [],
   "source": [
    "sns.set_context(\"paper\") # doesn't work, rc={\"figure.figsize\": (5,5)})\n",
    "rcParams['figure.figsize'] = 6, 3.2\n",
    "parameters = {\n",
    "          'axes.labelsize': 12,\n",
    "          'axes.titlesize': 12,\n",
    "          'xtick.labelsize': 12,\n",
    "          'ytick.labelsize': 12,\n",
    "          'legend.fontsize' : 12,\n",
    "          'legend.title_fontsize' : 12,}\n",
    "plt.rcParams.update(parameters)"
   ]
  },
  {
   "cell_type": "code",
   "execution_count": 13,
   "metadata": {},
   "outputs": [
    {
     "name": "stdout",
     "output_type": "stream",
     "text": [
      "saving and cropping  ../../paper/fig/AMD-EPYC-7502-ns-L3-latencies-io_P0-L3_64B_aligned-reduced-crop.pdf\n"
     ]
    },
    {
     "data": {
      "image/png": "[encoded data removed]",
      "text/plain": [
       "<Figure size 432x252 with 1 Axes>"
      ]
     },
     "metadata": {
      "needs_background": "light"
     },
     "output_type": "display_data"
    }
   ],
   "source": [
    "data = df.loc[df.groupby(['core0_freq', 'core1_freq']).latency_ns.idxmin()]\n",
    "\n",
    "\n",
    "graph = sns.barplot(x=_freq0, y=_latency, hue=_freq1, data=data)\n",
    "\n",
    "for p in graph.patches:\n",
    "        graph.annotate('{:.1f}'.format(p.get_height()), (p.get_x()+0.135, p.get_height()-1.5),\n",
    "                    ha='center', va='center',\n",
    "                    color= 'white', fontsize='11',fontweight='bold')\n",
    "\n",
    "plt.legend(loc='lower left',title ='Frequency of Remaining Cores', fontsize='12', title_fontsize='12')\n",
    "\n",
    "\n",
    "\n",
    "savefig(\"AMD-EPYC-7502-ns-L3-latencies-io_P0-L3_64B_aligned-reduced-crop\")\n"
   ]
  },
  {
   "cell_type": "code",
   "execution_count": null,
   "metadata": {},
   "outputs": [],
   "source": []
  }
 ],
 "metadata": {
  "kernelspec": {
   "display_name": "Python 3",
   "language": "python",
   "name": "python3"
  },
  "language_info": {
   "codemirror_mode": {
    "name": "ipython",
    "version": 3
   },
   "file_extension": ".py",
   "mimetype": "text/x-python",
   "name": "python",
   "nbconvert_exporter": "python",
   "pygments_lexer": "ipython3",
   "version": "3.8.6"
  }
 },
 "nbformat": 4,
 "nbformat_minor": 2
}
