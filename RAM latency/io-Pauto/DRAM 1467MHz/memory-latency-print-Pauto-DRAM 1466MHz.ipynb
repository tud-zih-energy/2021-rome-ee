{
 "cells": [
  {
   "cell_type": "markdown",
   "metadata": {},
   "source": [
    "# Latencies with Cache Coherency states on one Socket, Conway, I/O-die in P-state auto, DRAM @ 1467MHz"
   ]
  },
  {
   "cell_type": "markdown",
   "metadata": {},
   "source": [
    "## Load necessary depencencies"
   ]
  },
  {
   "cell_type": "code",
   "execution_count": 1,
   "metadata": {},
   "outputs": [],
   "source": [
    "import numpy\n",
    "import csv\n",
    "import re\n",
    "import os\n",
    "import matplotlib.pyplot as plt\n",
    "import matplotlib\n",
    "#matplotlib.use(\"pgf\")\n",
    "#matplotlib.rcParams.update({\n",
    "#    \"pgf.texsystem\": \"pdflatex\",\n",
    "#    'font.family': 'serif',\n",
    "#    'text.usetex': True,\n",
    "#    'pgf.rcfonts': False,\n",
    "#})"
   ]
  },
  {
   "cell_type": "markdown",
   "metadata": {},
   "source": [
    "## Define functions"
   ]
  },
  {
   "cell_type": "code",
   "execution_count": 2,
   "metadata": {},
   "outputs": [],
   "source": [
    "# taken from https://github.com/kuk/log-progress\n",
    "\n",
    "# MIT License\n",
    "#\n",
    "# Copyright (c) 2016 bureaucratic-labs\n",
    "# \n",
    "# Permission is hereby granted, free of charge, to any person obtaining a copy\n",
    "# of this software and associated documentation files (the \"Software\"), to deal\n",
    "# in the Software without restriction, including without limitation the rights\n",
    "# to use, copy, modify, merge, publish, distribute, sublicense, and/or sell\n",
    "# copies of the Software, and to permit persons to whom the Software is\n",
    "# furnished to do so, subject to the following conditions:\n",
    "#\n",
    "# The above copyright notice and this permission notice shall be included in all\n",
    "# copies or substantial portions of the Software.\n",
    "#\n",
    "# THE SOFTWARE IS PROVIDED \"AS IS\", WITHOUT WARRANTY OF ANY KIND, EXPRESS OR\n",
    "# IMPLIED, INCLUDING BUT NOT LIMITED TO THE WARRANTIES OF MERCHANTABILITY,\n",
    "# FITNESS FOR A PARTICULAR PURPOSE AND NONINFRINGEMENT. IN NO EVENT SHALL THE\n",
    "# AUTHORS OR COPYRIGHT HOLDERS BE LIABLE FOR ANY CLAIM, DAMAGES OR OTHER\n",
    "# LIABILITY, WHETHER IN AN ACTION OF CONTRACT, TORT OR OTHERWISE, ARISING FROM,\n",
    "# OUT OF OR IN CONNECTION WITH THE SOFTWARE OR THE USE OR OTHER DEALINGS IN THE\n",
    "# SOFTWARE.\n",
    "\n",
    "def log_progress(sequence, every=None, size=None, name='Items'):\n",
    "    from ipywidgets import IntProgress, HTML, VBox\n",
    "    from IPython.display import display\n",
    "\n",
    "    is_iterator = False\n",
    "    if size is None:\n",
    "        try:\n",
    "            size = len(sequence)\n",
    "        except TypeError:\n",
    "            is_iterator = True\n",
    "    if size is not None:\n",
    "        if every is None:\n",
    "            if size <= 200:\n",
    "                every = 1\n",
    "            else:\n",
    "                every = int(size / 200)     # every 0.5%\n",
    "    else:\n",
    "        assert every is not None, 'sequence is iterator, set every'\n",
    "\n",
    "    if is_iterator:\n",
    "        progress = IntProgress(min=0, max=1, value=1)\n",
    "        progress.bar_style = 'info'\n",
    "    else:\n",
    "        progress = IntProgress(min=0, max=size, value=0)\n",
    "    label = HTML()\n",
    "    box = VBox(children=[label, progress])\n",
    "    display(box)\n",
    "\n",
    "    index = 0\n",
    "    try:\n",
    "        for index, record in enumerate(sequence, 1):\n",
    "            if index == 1 or index % every == 0:\n",
    "                if is_iterator:\n",
    "                    label.value = '{name}: {index} / ?'.format(\n",
    "                        name=name,\n",
    "                        index=index\n",
    "                    )\n",
    "                else:\n",
    "                    progress.value = index\n",
    "                    label.value = u'{name}: {index} / {size}'.format(\n",
    "                        name=name,\n",
    "                        index=index,\n",
    "                        size=size\n",
    "                    )\n",
    "            yield record\n",
    "    except:\n",
    "        progress.bar_style = 'danger'\n",
    "        raise\n",
    "    else:\n",
    "        progress.bar_style = 'success'\n",
    "        progress.value = index\n",
    "        label.value = \"{name}: {index}\".format(\n",
    "            name=name,\n",
    "            index=str(index or '?')\n",
    "        )"
   ]
  },
  {
   "cell_type": "code",
   "execution_count": 3,
   "metadata": {},
   "outputs": [],
   "source": [
    "# generate lists of files with files according to search parameters\n",
    "def listgenerator (filelist, startstring, searchpara, retlist):\n",
    "\n",
    "    searchpara = searchpara + \"\\\"\"\n",
    "    \n",
    "    for file in filelist:\n",
    "        for line in open(file):\n",
    "            if line.startswith(startstring):\n",
    "                if searchpara in line:\n",
    "                    retlist.append(file)"
   ]
  },
  {
   "cell_type": "code",
   "execution_count": 4,
   "metadata": {},
   "outputs": [],
   "source": [
    "def evaluation(filelist, core, size):\n",
    "    \n",
    "    csvvalues = numpy.array([])\n",
    "    datapoints = numpy.array([])\n",
    "    evaluation_vals = numpy.array([])\n",
    "\n",
    "\n",
    "    # use measurements for same core from run with core 1\n",
    "    if core == \"0\":\n",
    "        coreline = \"BENCHIT_KERNEL_CPU_LIST=\\\"0,1\"\n",
    "    else:\n",
    "        coreline = \"BENCHIT_KERNEL_CPU_LIST=\\\"0,\" + core + \"\\\"\"\n",
    "\n",
    "    core_found = False\n",
    "    data_found = False\n",
    "\n",
    "\n",
    "    # iterate over lines in file\n",
    "    for file in filelist:\n",
    "\n",
    "        # empty arrays\n",
    "        csvvalues = numpy.array([])\n",
    "        datapoints = numpy.array([])\n",
    "\n",
    "        core_found = False\n",
    "        data_found = False\n",
    "\n",
    "        for line in open(file):\n",
    "                    \n",
    "            # check if file has data for core\n",
    "            if line.startswith(coreline):\n",
    "                core_found = True\n",
    "\n",
    "            # data begins after \"beginofdata\" string, only search for this when coreline has been found in file\n",
    "            if line.startswith(\"beginofdata\") and core_found == True:\n",
    "                data_found = True\n",
    "\n",
    "            # append data to values array, make sure that no strings are appended\n",
    "            if data_found == True and not line.startswith(\"endofdata\") and not line.startswith(\"beginofdata\"):\n",
    "                \n",
    "                # data for core 0 is taken from file that contains data for cores 0,1\n",
    "                # data for core 0 can be found in col. index 1, every other core in col. index 2\n",
    "                if core == \"0\":\n",
    "                    csvvalues = numpy.append(csvvalues, float(line.split()[1]))\n",
    "                else:\n",
    "                    csvvalues = numpy.append(csvvalues, float(line.split()[2]))\n",
    "\n",
    "                # append data sizes\n",
    "                datapoints = numpy.append(datapoints, str(line.split()[0]))\n",
    "\n",
    "        # process data only when wanted data has been found in file\n",
    "        if data_found == True:\n",
    "\n",
    "            # find data size string in datapoints array\n",
    "            index = numpy.where(datapoints == size)\n",
    "            \n",
    "            # save latency value for given data size and next 4 values to array\n",
    "            for i in range(4):\n",
    "                evaluation_vals = numpy.append(evaluation_vals, csvvalues[index[0] + i])\n",
    "\n",
    "    # calculate median\n",
    "    # save min and max value as error\n",
    "    median = numpy.average(evaluation_vals)\n",
    "    stdevs = numpy.std(evaluation_vals)\n",
    "    maximum = abs(max(evaluation_vals) - median)\n",
    "    minimum = abs(min(evaluation_vals) - median)\n",
    "\n",
    "    return(median, stdevs, maximum, minimum)"
   ]
  },
  {
   "cell_type": "code",
   "execution_count": 12,
   "metadata": {},
   "outputs": [],
   "source": [
    "# plotter function\n",
    "def plotter(medians, stdevs, level, machine):\n",
    "   \n",
    "    # print values on top of bars\n",
    "    def autolabel(rects):\n",
    "        for rect in rects:\n",
    "            height = rect.get_height()\n",
    "            ax.text(rect.get_x() + rect.get_width()/2., 8+height,\n",
    "                    '%d (%.1f)' % (round(height), float(height/2.5)),\n",
    "                rotation=90, ha='center', va='bottom', size='x-small')\n",
    "\n",
    "    #fig, ax = plt.subplots(1, 1, figsize=set_size(455.24408, fraction=0.7))\n",
    "    fig, ax = plt.subplots()\n",
    "    \n",
    "    levels = ['L1', 'L2', 'L3', 'RAM']\n",
    "    # set title according to memory level, CPU architecture, machine designation\n",
    "    ax.set_title(levels[level] + ' Latency, on 2x' + machine + ', DRAM @ 1466MHz\\n'+\n",
    "                 'I/O-die in P-state auto', fontsize='x-large')\n",
    "    \n",
    "    xlabels = numpy.array(['Node 0', 'Node 1', 'Node 2', 'Node 3', 'Node 4', 'Node 5', 'Node 6', 'Node 7'])\n",
    "    \n",
    "    # as many x-ticks as memory locations\n",
    "    x = numpy.arange(len(xlabels))\n",
    "    ax.set_xlabel('Memory Location', fontsize='x-large')\n",
    "\n",
    "    # use instructions as xticks\n",
    "    ax.set_xticks(x)\n",
    "    ax.set_xticklabels(xlabels, rotation=45, ha='right', rotation_mode='anchor') \n",
    "\n",
    "    ax.set_ylabel('Latency in [cycles]', fontsize='x-large')\n",
    "    \n",
    "    # enable y-axis grid\n",
    "    ax.grid(b=True, which='major', axis='y', linestyle='--', linewidth='0.4')\n",
    "    \n",
    "    ax.axvline(x=3.5, color='grey', linestyle=\"--\")\n",
    "                \n",
    "    width = 0.7\n",
    "    rect1 = ax.bar(x,  medians, width, yerr=stdevs, xerr=0)\n",
    "    autolabel(rect1)\n",
    "    # set y axis limit identical for all plots for consistent looks & fitting bar labels\n",
    "    ax.set_ylim(bottom=0, top=round(max(\\\n",
    "                              numpy.max(medians),\\\n",
    "                              numpy.max(medians) * 1.9)))\n",
    "    \n",
    "    # secondary y-axis\n",
    "    def cyctons(y):\n",
    "        return y * 2.5\n",
    "    \n",
    "    def nstocyc(y):\n",
    "        return y/2.5\n",
    "    secax = ax.secondary_yaxis('right', functions =(nstocyc, cyctons)) \n",
    "    secax.set_ylabel('Latency in [ns]', fontsize='x-large') \n",
    "    # ensure that xticks-labels are being shown on saved plot\n",
    "    fig.tight_layout()\n",
    "        \n",
    "    # save plot to file\n",
    "    filename = machine+'-Latencies-'+levels[level]+'-Pauto-DRAM_1466MHz-print.png'\n",
    "\n",
    "    matplotlib.pyplot.savefig(filename, dpi=300, format='png') \n",
    "    print(filename + ' has been saved to disk.')\n"
   ]
  },
  {
   "cell_type": "markdown",
   "metadata": {},
   "source": [
    "## Create file lists"
   ]
  },
  {
   "cell_type": "code",
   "execution_count": 6,
   "metadata": {},
   "outputs": [
    {
     "data": {
      "application/vnd.jupyter.widget-view+json": {
       "model_id": "903013b777d344a4adc5bcc9d28430f8",
       "version_major": 2,
       "version_minor": 0
      },
      "text/plain": [
       "VBox(children=(HTML(value=''), IntProgress(value=1, bar_style='info', max=1)))"
      ]
     },
     "metadata": {},
     "output_type": "display_data"
    }
   ],
   "source": [
    "# get list of all files in directory\n",
    "path = 'datafiles'\n",
    "\n",
    "filelist = []\n",
    "\n",
    "for entry in log_progress(os.scandir(path), True): \n",
    "    filelist.append(entry.path)"
   ]
  },
  {
   "cell_type": "code",
   "execution_count": 7,
   "metadata": {},
   "outputs": [
    {
     "data": {
      "application/vnd.jupyter.widget-view+json": {
       "model_id": "d6567b169b544e7d863ae131e04d53b2",
       "version_major": 2,
       "version_minor": 0
      },
      "text/plain": [
       "VBox(children=(HTML(value=''), IntProgress(value=0, max=1)))"
      ]
     },
     "metadata": {},
     "output_type": "display_data"
    },
    {
     "name": "stdout",
     "output_type": "stream",
     "text": [
      "Files in list for state I: 80\n"
     ]
    }
   ],
   "source": [
    "files = [] # 0 = M, 1 = (E|U), 2 = S, 3 = E, 4 = I\n",
    "\n",
    "states = ['I']\n",
    "\n",
    "for state in log_progress(states):\n",
    "    index = states.index(state)\n",
    "    \n",
    "    listgenerator(filelist, 'BENCHIT_KERNEL_USE_MODE', state, files)\n",
    "    \n",
    "    print(\"Files in list for state \" + str(state) + \": \" + str(len(files)))"
   ]
  },
  {
   "cell_type": "markdown",
   "metadata": {},
   "source": [
    "## Process data"
   ]
  },
  {
   "cell_type": "code",
   "execution_count": 8,
   "metadata": {},
   "outputs": [
    {
     "data": {
      "application/vnd.jupyter.widget-view+json": {
       "model_id": "049842020ba145c2b649ac5d2a40ba82",
       "version_major": 2,
       "version_minor": 0
      },
      "text/plain": [
       "VBox(children=(HTML(value=''), IntProgress(value=0, max=8)))"
      ]
     },
     "metadata": {},
     "output_type": "display_data"
    }
   ],
   "source": [
    "#datasize = ['21893', '122866', '6.19382e+06', '6.50839e+07']\n",
    "size = '3.06366e+07'\n",
    "\n",
    "cores = ['1', '8', '16', '28', '32', '40', '48', '56']\n",
    "\n",
    "medians = numpy.zeros([len(cores)]) # States, Datasizes, Cores\n",
    "stdevs = numpy.zeros([len(cores)])\n",
    "maxima = numpy.zeros([len(cores)])\n",
    "minima = numpy.zeros([len(cores)])\n",
    "\n",
    "for core in log_progress(cores):\n",
    "    core_index = cores.index(core)\n",
    "\n",
    "    medians[core_index], \\\n",
    "    stdevs[core_index],\\\n",
    "    maxima[core_index],\\\n",
    "    minima[core_index] = \\\n",
    "    evaluation(files, core, size)"
   ]
  },
  {
   "cell_type": "markdown",
   "metadata": {},
   "source": [
    "## Plot data"
   ]
  },
  {
   "cell_type": "code",
   "execution_count": 13,
   "metadata": {},
   "outputs": [
    {
     "name": "stdout",
     "output_type": "stream",
     "text": [
      "AMD EPYC 7502-Latencies-RAM-Pauto-DRAM_1466MHz-print.png has been saved to disk.\n"
     ]
    },
    {
     "data": {
      "image/png": "[encoded data removed]",
      "text/plain": [
       "<Figure size 432x288 with 1 Axes>"
      ]
     },
     "metadata": {
      "needs_background": "light"
     },
     "output_type": "display_data"
    }
   ],
   "source": [
    "plotter(medians, stdevs, 3, 'AMD EPYC 7502')"
   ]
  },
  {
   "cell_type": "code",
   "execution_count": null,
   "metadata": {},
   "outputs": [],
   "source": []
  }
 ],
 "metadata": {
  "kernelspec": {
   "display_name": "Python 3",
   "language": "python",
   "name": "python3"
  },
  "language_info": {
   "codemirror_mode": {
    "name": "ipython",
    "version": 3
   },
   "file_extension": ".py",
   "mimetype": "text/x-python",
   "name": "python",
   "nbconvert_exporter": "python",
   "pygments_lexer": "ipython3",
   "version": "3.8.5"
  }
 },
 "nbformat": 4,
 "nbformat_minor": 2
}
