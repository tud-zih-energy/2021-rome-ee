{
 "cells": [
  {
   "cell_type": "markdown",
   "metadata": {},
   "source": [
    "# RAM bandwidth, 1467MHz RAM & 1600MHz RAM, all I/O-die P-states"
   ]
  },
  {
   "cell_type": "markdown",
   "metadata": {},
   "source": [
    "## Load necessary depencencies"
   ]
  },
  {
   "cell_type": "code",
   "execution_count": 1,
   "metadata": {},
   "outputs": [],
   "source": [
    "import numpy\n",
    "import csv\n",
    "import re\n",
    "import os\n",
    "import matplotlib.pyplot as plt\n",
    "import matplotlib\n",
    "from pylab import rcParams"
   ]
  },
  {
   "cell_type": "markdown",
   "metadata": {},
   "source": [
    "## Define functions"
   ]
  },
  {
   "cell_type": "code",
   "execution_count": 2,
   "metadata": {},
   "outputs": [],
   "source": [
    "# taken from https://github.com/kloopuk/log-progress\n",
    "\n",
    "# MIT License\n",
    "#\n",
    "# Copyright (c) 2016 bureaucratic-labs\n",
    "# \n",
    "# Permission is hereby granted, free of charge, to any person obtaining a copy\n",
    "# of this software and associated documentation files (the \"Software\"), to deal\n",
    "# in the Software without restriction, including without limitation the rights\n",
    "# to use, copy, modify, merge, publish, distribute, sublicense, and/or sell\n",
    "# copies of the Software, and to permit persons to whom the Software is\n",
    "# furnished to do so, subject to the following conditions:\n",
    "#\n",
    "# The above copyright notice and this permission notice shall be included in all\n",
    "# copies or substantial portions of the Software.\n",
    "#\n",
    "# THE SOFTWARE IS PROVIDED \"AS IS\", WITHOUT WARRANTY OF ANY KIND, EXPRESS OR\n",
    "# IMPLIED, INCLUDING BUT NOT LIMITED TO THE WARRANTIES OF MERCHANTABILITY,\n",
    "# FITNESS FOR A PARTICULAR PURPOSE AND NONINFRINGEMENT. IN NO EVENT SHALL THE\n",
    "# AUTHORS OR COPYRIGHT HOLDERS BE LIABLE FOR ANY CLAIM, DAMAGES OR OTHER\n",
    "# LIABILITY, WHETHER IN AN ACTION OF CONTRACT, TORT OR OTHERWISE, ARISING FROM,\n",
    "# OUT OF OR IN CONNECTION WITH THE SOFTWARE OR THE USE OR OTHER DEALINGS IN THE\n",
    "# SOFTWARE.\n",
    "\n",
    "def log_progress(sequence, every=None, size=None, name='Items'):\n",
    "    from ipywidgets import IntProgress, HTML, VBox\n",
    "    from IPython.display import display\n",
    "\n",
    "    is_iterator = False\n",
    "    if size is None:\n",
    "        try:\n",
    "            size = len(sequence)\n",
    "        except TypeError:\n",
    "            is_iterator = True\n",
    "    if size is not None:\n",
    "        if every is None:\n",
    "            if size <= 200:\n",
    "                every = 1\n",
    "            else:\n",
    "                every = int(size / 200)     # every 0.5%\n",
    "    else:\n",
    "        assert every is not None, 'sequence is iterator, set every'\n",
    "\n",
    "    if is_iterator:\n",
    "        progress = IntProgress(min=0, max=1, value=1)\n",
    "        progress.bar_style = 'info'\n",
    "    else:\n",
    "        progress = IntProgress(min=0, max=size, value=0)\n",
    "    label = HTML()\n",
    "    box = VBox(children=[label, progress])\n",
    "    display(box)\n",
    "\n",
    "    index = 0\n",
    "    try:\n",
    "        for index, record in enumerate(sequence, 1):\n",
    "            if index == 1 or index % every == 0:\n",
    "                if is_iterator:\n",
    "                    label.value = '{name}: {index} / ?'.format(\n",
    "                        name=name,\n",
    "                        index=index\n",
    "                    )\n",
    "                else:\n",
    "                    progress.value = index\n",
    "                    label.value = u'{name}: {index} / {size}'.format(\n",
    "                        name=name,\n",
    "                        index=index,\n",
    "                        size=size\n",
    "                    )\n",
    "            yield record\n",
    "    except:\n",
    "        progress.bar_style = 'danger'\n",
    "        raise\n",
    "    else:\n",
    "        progress.bar_style = 'success'\n",
    "        progress.value = index\n",
    "        label.value = \"{name}: {index}\".format(\n",
    "            name=name,\n",
    "            index=str(index or '?')\n",
    "        )"
   ]
  },
  {
   "cell_type": "code",
   "execution_count": 3,
   "metadata": {},
   "outputs": [],
   "source": [
    "# generate lists of files with files according to search parameters\n",
    "def listgenerator (filelist, startstring, searchpara, retlist):\n",
    "\n",
    "    searchpara = searchpara + \"\\\"\"\n",
    "    \n",
    "    for file in filelist:\n",
    "        for line in open(file):\n",
    "            if line.startswith(startstring):\n",
    "                if searchpara in line:\n",
    "                    retlist.append(file)"
   ]
  },
  {
   "cell_type": "code",
   "execution_count": 4,
   "metadata": {},
   "outputs": [],
   "source": [
    "def evaluation(filelist, core, size, state):\n",
    "    \n",
    "    csvvalues = numpy.array([])\n",
    "    datapoints = numpy.array([])\n",
    "    evaluation_vals = numpy.array([])\n",
    "\n",
    "\n",
    "    # use measurements for same core from run with core 1\n",
    "    if core == \"0\":\n",
    "        coreline = \"BENCHIT_KERNEL_CPU_LIST=\\\"0,1\\\"\"\n",
    "    else:\n",
    "        coreline = \"BENCHIT_KERNEL_CPU_LIST=\\\"0,\" + core + \"\\\"\"\n",
    "\n",
    "    case_found = False\n",
    "    core_found = False\n",
    "    data_found = False\n",
    "\n",
    "\n",
    "    # iterate over lines in file\n",
    "    for file in filelist:\n",
    "\n",
    "        # empty arrays\n",
    "        csvvalues = numpy.array([])\n",
    "        datapoints = numpy.array([])\n",
    "\n",
    "        case_found = False\n",
    "        core_found = False\n",
    "        data_found = False\n",
    "\n",
    "        for line in open(file):\n",
    "            if line.startswith('comment='):\n",
    "                if not line.startswith('comment=\\\"Core frequency at 2500MHz\\\"'):\n",
    "                    break\n",
    "                \n",
    "            if line.startswith('BENCHIT_KERNEL_USE_MODE=\\\"' + state):\n",
    "                case_found = True\n",
    "                    \n",
    "            # check if file has data for core\n",
    "            if line.startswith(coreline) and case_found:\n",
    "                core_found = True\n",
    "            # data begins after \"beginofdata\" string, only search for this when coreline has been found in file\n",
    "            if line.startswith(\"beginofdata\") and core_found:\n",
    "                data_found = True\n",
    "\n",
    "            # append data to values array, make sure that no strings are appended\n",
    "            if data_found and not line.startswith(\"endofdata\") and not line.startswith(\"beginofdata\"):\n",
    "                \n",
    "                # data for core 0 is taken from file that contains data for cores 0,1\n",
    "                # data for core 0 can be found in col. index 1, every other core in col. index 2\n",
    "                if core == \"0\":\n",
    "                    csvvalues = numpy.append(csvvalues, float(line.split()[3]))\n",
    "                else:\n",
    "                    csvvalues = numpy.append(csvvalues, float(line.split()[4]))\n",
    "\n",
    "                # append data sizes\n",
    "                datapoints = numpy.append(datapoints, str(line.split()[0]))\n",
    "\n",
    "        # process data only when wanted data has been found in file\n",
    "        if data_found:\n",
    "\n",
    "            # find data size string in datapoints array\n",
    "            index = numpy.where(datapoints == size)\n",
    "            \n",
    "            # save latency value for given data size and next 4 values to array\n",
    "            for i in range(4):\n",
    "                evaluation_vals = numpy.append(evaluation_vals, csvvalues[index[0] + i])\n",
    "            #print(evaluation_vals)\n",
    "    # calculate minimum & stdev\n",
    "    minimum = min(evaluation_vals)\n",
    "    maximum = max(evaluation_vals)\n",
    "    median = numpy.median(evaluation_vals)\n",
    "    stdevs = numpy.std(evaluation_vals)\n",
    "\n",
    "    return(minimum, maximum, median, stdevs)"
   ]
  },
  {
   "cell_type": "code",
   "execution_count": 16,
   "metadata": {},
   "outputs": [],
   "source": [
    "# plotter function\n",
    "def plotter(minima, DRAM_freqs, p_states, unit, variant, machine):\n",
    "\n",
    "    #rcParams[\"font.size\"]=\"8.0\"\n",
    "    fig, ax = plt.subplots()\n",
    "    im = ax.imshow(minima, cmap='coolwarm_r')\n",
    "    \n",
    "    # set title\n",
    "    #ax.set_title('STREAM ' + function + ' RAM Bandwidth in [GB/s], on ' + machine + '\\n')\n",
    "    \n",
    "    # setup for main axes\n",
    "    DRAM_freqs = [\"1.467\", \"1.6\"]\n",
    "    xlabels = numpy.array(DRAM_freqs)\n",
    "    ylabels = numpy.array(p_states)\n",
    "   \n",
    "    x = numpy.arange(len(xlabels))\n",
    "    y = numpy.arange(len(ylabels))\n",
    "    \n",
    "    ax.set_xlabel('DRAM Frequency [GHz]')\n",
    "    ax.set_ylabel('I/O-die P-state')\n",
    "\n",
    "    ax.set_xticks(x)\n",
    "    ax.set_yticks(y)\n",
    "    \n",
    "    ax.set_xticklabels(xlabels, rotation=0, ha='center', rotation_mode='anchor') \n",
    "    ax.set_yticklabels(ylabels, rotation=0, ha='right', rotation_mode='anchor') \n",
    "    \n",
    "    # create colorbar\n",
    "    cbarlabel = 'Latency [' + unit + ']'\n",
    "    \n",
    "    # define cbar ticks\n",
    "    steps = 4\n",
    "    \n",
    "    cbarticks = []\n",
    "    \n",
    "    cbarticks.append(round(minima.min()+0.05,1))\n",
    "    cbarticks.append(round(minima.max()-0.05,1))\n",
    "    \n",
    "    for i in range(1,steps):\n",
    "        cbarticks.append(round(minima.min() + ((minima.max()-minima.min()) * float(i)/steps),1))\n",
    "        \n",
    "    cbarticks.sort()\n",
    "\n",
    "    cbar = ax.figure.colorbar(im, shrink=1, pad=0.02, ticks=cbarticks)\n",
    "    cbar.ax.set_ylabel(cbarlabel, rotation=+90, va=\"top\")\n",
    "\n",
    "    # secondary x-axis\n",
    "    #def cyctons(x):\n",
    "    #    return (x-0.5) * len(DRAM_freqs)\n",
    "    \n",
    "    #def nstocyc(x):\n",
    "    #    return (x-0.5) / len(DRAM_freqs)\n",
    "    \n",
    "    # secondary x-axis\n",
    "    #secax = ax.secondary_xaxis('top', functions =(nstocyc, cyctons)) \n",
    "    #secax.set_xticks(numpy.arange(len(p_states), step=1))\n",
    "    #secax.set_xticklabels(p_states)\n",
    "    #secax.set_xlabel('I/O-Die P-State')\n",
    "    \n",
    "    lc = 'white'\n",
    "    lw = 3\n",
    "    #ax.axvline(x=1.5, color=lc, linewidth=lw)\n",
    "    #ax.axvline(x=3.5, color=lc, linewidth=lw)\n",
    "    #ax.axvline(x=5.5, color=lc, linewidth=lw)\n",
    "    #ax.axvline(x=7.5, color=lc, linewidth=lw)\n",
    "\n",
    "    # set color for font depending on value\n",
    "    thresholdLower = im.norm(minima.max())/3.\n",
    "    thresholdUpper = im.norm(minima.max())/1.2\n",
    "   \n",
    "    textcolors=(\"white\", \"black\")\n",
    "    \n",
    "    # Loop over data dimensions and create text annotations.\n",
    "    for j in range(len(xlabels)):\n",
    "        for i in range(len(ylabels)):\n",
    "            if minima[i, j] > 100:\n",
    "                value = int(round(minima[i, j]))\n",
    "            else:\n",
    "                value = int(round(minima[i, j]))\n",
    "\n",
    "            text = ax.text(j, i, value,\n",
    "                           ha=\"center\", va=\"center\", \n",
    "                           #size=\"small\",\n",
    "                           color=textcolors[int(im.norm(minima[i, j]) > \n",
    "                                                thresholdLower and im.norm(minima[i, j]) < \n",
    "                                                thresholdUpper)]) \n",
    "    \n",
    "    # ensure proper layout\n",
    "    fig.tight_layout()\n",
    "        \n",
    "    # save plot to file\n",
    "    filename = '../../paper/fig/' + machine + '-DRAM_latency-all-p_states-' + variant + '.pdf'\n",
    "\n",
    "    matplotlib.pyplot.savefig(filename, dpi=300, format='pdf', bbox_inches = 'tight', pad_inches = 0) \n",
    "    print(filename + ' has been saved to disk.')\n"
   ]
  },
  {
   "cell_type": "markdown",
   "metadata": {},
   "source": [
    "## Create file lists"
   ]
  },
  {
   "cell_type": "code",
   "execution_count": 6,
   "metadata": {},
   "outputs": [
    {
     "name": "stderr",
     "output_type": "stream",
     "text": [
      "Widget Javascript not detected.  It may not be installed or enabled properly.\n"
     ]
    },
    {
     "data": {
      "application/vnd.jupyter.widget-view+json": {
       "model_id": "782e9f2c0621418e85c049abaab70fc0"
      }
     },
     "metadata": {},
     "output_type": "display_data"
    },
    {
     "name": "stdout",
     "output_type": "stream",
     "text": [
      "Files for P-state 3: 1110\n",
      "Files for P-state 2: 600\n",
      "Files for P-state 1: 600\n",
      "Files for P-state 0: 920\n",
      "Files for P-state auto: 1347\n"
     ]
    }
   ],
   "source": [
    "# get list of all files in directory\n",
    "\n",
    "p_states = ['auto', '0', '1', '2', '3']\n",
    "p_states.reverse()\n",
    "\n",
    "filelist1467 = [],[],[],[],[]\n",
    "filelist1600 = [],[],[],[],[]\n",
    "\n",
    "for p_state in log_progress(p_states):\n",
    "    p_index = p_states.index(p_state)\n",
    "    path = 'io-P' + p_state + '/DRAM 1467MHz/datafiles'\n",
    "    for entry in os.scandir(path): \n",
    "        filelist1467[p_index].append(entry.path)\n",
    "        \n",
    "    path = 'io-P' + p_state + '/DRAM 1600MHz/datafiles'\n",
    "    for entry in os.scandir(path): \n",
    "        filelist1600[p_index].append(entry.path)\n",
    "    print(\"Files for P-state \" + p_state + \": \" + str(len(filelist1600[p_index])))"
   ]
  },
  {
   "cell_type": "markdown",
   "metadata": {},
   "source": [
    "## Process data"
   ]
  },
  {
   "cell_type": "code",
   "execution_count": 7,
   "metadata": {},
   "outputs": [
    {
     "name": "stderr",
     "output_type": "stream",
     "text": [
      "Widget Javascript not detected.  It may not be installed or enabled properly.\n"
     ]
    },
    {
     "data": {
      "application/vnd.jupyter.widget-view+json": {
       "model_id": "ac018ae36e4d4d76974f2f25be1c452c"
      }
     },
     "metadata": {},
     "output_type": "display_data"
    }
   ],
   "source": [
    "size = '3.06366e+07'\n",
    "\n",
    "core = '0'\n",
    "\n",
    "DRAM_freqs = ['1467', '1600']\n",
    "\n",
    "minima = numpy.zeros([len(p_states), len(DRAM_freqs)])\n",
    "maxima = numpy.zeros([len(p_states), len(DRAM_freqs)])\n",
    "medians = numpy.zeros([len(p_states), len(DRAM_freqs)])\n",
    "stdevs = numpy.zeros([len(p_states), len(DRAM_freqs)])\n",
    "\n",
    "for p_state in log_progress(p_states):\n",
    "    p_index = p_states.index(p_state)\n",
    "\n",
    "    for DRAM_freq in DRAM_freqs:\n",
    "        freq_index = DRAM_freqs.index(DRAM_freq)\n",
    "\n",
    "        if DRAM_freq == '1467':\n",
    "            state = 'I'\n",
    "            filelist = filelist1467\n",
    "        else:\n",
    "            state = 'M'\n",
    "            filelist = filelist1600\n",
    "\n",
    "        minima[p_index][freq_index], \\\n",
    "        maxima[p_index][freq_index], \\\n",
    "        medians[p_index][freq_index], \\\n",
    "        stdevs[p_index][freq_index] = \\\n",
    "        evaluation(filelist[p_index], core, size, state)\n"
   ]
  },
  {
   "cell_type": "markdown",
   "metadata": {},
   "source": [
    "## Plot Data"
   ]
  },
  {
   "cell_type": "code",
   "execution_count": 15,
   "metadata": {},
   "outputs": [
    {
     "name": "stdout",
     "output_type": "stream",
     "text": [
      "../../paper/fig/AMD EPYC 7502-DRAM_latency-all-p_states-minima.pdf has been saved to disk.\n",
      "../../paper/fig/AMD EPYC 7502-DRAM_latency-all-p_states-maxima.pdf has been saved to disk.\n",
      "../../paper/fig/AMD EPYC 7502-DRAM_latency-all-p_states-medians.pdf has been saved to disk.\n"
     ]
    },
    {
     "data": {
      "image/png": "[encoded data removed]",
      "text/plain": [
       "<Figure size 165.6x216 with 2 Axes>"
      ]
     },
     "metadata": {
      "needs_background": "light"
     },
     "output_type": "display_data"
    },
    {
     "data": {
      "image/png": "[encoded data removed]",
      "text/plain": [
       "<Figure size 165.6x216 with 2 Axes>"
      ]
     },
     "metadata": {
      "needs_background": "light"
     },
     "output_type": "display_data"
    },
    {
     "data": {
      "image/png": "[encoded data removed]",
      "text/plain": [
       "<Figure size 165.6x216 with 2 Axes>"
      ]
     },
     "metadata": {
      "needs_background": "light"
     },
     "output_type": "display_data"
    }
   ],
   "source": [
    "#rcParams['figure.figsize'] = 3, 4\n",
    "rcParams['figure.figsize'] = 2.3, 3\n",
    "#rcParams['figure.figsize'] = 2.625,3.5\n",
    "rcParams['font.size'] = 9.5\n",
    "\n",
    "plotter(minima, DRAM_freqs, p_states, 'ns', 'minima', 'AMD EPYC 7502')\n",
    "plotter(maxima, DRAM_freqs, p_states, 'ns', 'maxima', 'AMD EPYC 7502')\n",
    "plotter(medians, DRAM_freqs, p_states, 'ns', 'medians', 'AMD EPYC 7502')"
   ]
  },
  {
   "cell_type": "code",
   "execution_count": null,
   "metadata": {},
   "outputs": [],
   "source": []
  }
 ],
 "metadata": {
  "kernelspec": {
   "display_name": "Python 3",
   "language": "python",
   "name": "python3"
  },
  "language_info": {
   "codemirror_mode": {
    "name": "ipython",
    "version": 3
   },
   "file_extension": ".py",
   "mimetype": "text/x-python",
   "name": "python",
   "nbconvert_exporter": "python",
   "pygments_lexer": "ipython3",
   "version": "3.8.6"
  }
 },
 "nbformat": 4,
 "nbformat_minor": 2
}
