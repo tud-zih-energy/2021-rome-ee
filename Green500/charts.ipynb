{
 "cells": [
  {
   "cell_type": "code",
   "execution_count": 1,
   "metadata": {
    "pycharm": {
     "name": "#%%\n"
    }
   },
   "outputs": [],
   "source": [
    "import pandas as pd\n",
    "import seaborn as sns\n",
    "import matplotlib.pyplot as plt\n",
    "from scipy import stats\n",
    "import math\n",
    "from matplotlib.backends.backend_pdf import PdfPages\n",
    "import subprocess\n",
    "import numpy as np\n",
    "from pylab import rcParams"
   ]
  },
  {
   "cell_type": "code",
   "execution_count": 2,
   "metadata": {
    "pycharm": {
     "name": "#%%\n"
    }
   },
   "outputs": [],
   "source": [
    "def savefig(name, **kwargs):\n",
    "    fn = \"../../paper/fig/{}.pdf\".format(name)\n",
    "    pp = PdfPages(fn)\n",
    "    pp.savefig(dpi=1200, bbox_inches=\"tight\", **kwargs)\n",
    "    pp.close()\n",
    "    print(\"saving and cropping \", fn)\n",
    "    subprocess.run([\"pdfcrop\", fn, fn])"
   ]
  },
  {
   "cell_type": "code",
   "execution_count": 3,
   "metadata": {
    "pycharm": {
     "name": "#%%\n"
    }
   },
   "outputs": [],
   "source": [
    "df = pd.read_excel(\"green500_top_202011.xlsx\")\n",
    "df = df[df[\"Power Efficiency [GFlops/Watts]\"] > 0]\n",
    "df = df[df[\"Accelerator/Co-Processor\"] == \"None\"]"
   ]
  },
  {
   "cell_type": "code",
   "execution_count": 10,
   "metadata": {
    "pycharm": {
     "name": "#%%\n"
    }
   },
   "outputs": [
    {
     "name": "stdout",
     "output_type": "stream",
     "text": [
      "AMD Zen-2 (Rome)\n",
      "     7 systems\n",
      "     4.913773801428571 [GFlopps/Watts] mean efficiency\n",
      "     5.161157025 [GFlopps/Watts] max efficiency\n",
      "Fujitsu ARM\n",
      "     2 systems\n",
      "     16.146995595 [GFlopps/Watts] mean efficiency\n",
      "     16.87626604 [GFlopps/Watts] max efficiency\n",
      "Intel Broadwell\n",
      "     28 systems\n",
      "     2.0467746918214287 [GFlopps/Watts] mean efficiency\n",
      "     2.926586826 [GFlopps/Watts] max efficiency\n",
      "Intel Cascade Lake\n",
      "     16 systems\n",
      "     4.0068518633125 [GFlopps/Watts] mean efficiency\n",
      "     5.843478261 [GFlopps/Watts] max efficiency\n",
      "Intel Haswell\n",
      "     17 systems\n",
      "     1.6990323703470587 [GFlopps/Watts] mean efficiency\n",
      "     2.697741935 [GFlopps/Watts] max efficiency\n",
      "Intel IvyBridge\n",
      "     3 systems\n",
      "     0.7813580715 [GFlopps/Watts] mean efficiency\n",
      "     1.350476515 [GFlopps/Watts] max efficiency\n",
      "Intel SandyBridge\n",
      "     2 systems\n",
      "     0.7593966399500001 [GFlopps/Watts] mean efficiency\n",
      "     0.8813636364 [GFlopps/Watts] max efficiency\n",
      "Intel Skylake\n",
      "     48 systems\n",
      "     3.138264453416667 [GFlopps/Watts] mean efficiency\n",
      "     4.539110948 [GFlopps/Watts] max efficiency\n",
      "Intel Xeon Phi\n",
      "     6 systems\n",
      "     3.7524612461666673 [GFlopps/Watts] mean efficiency\n",
      "     4.985691691 [GFlopps/Watts] max efficiency\n",
      "NEC Vector Engine\n",
      "     2 systems\n",
      "     5.3880562615 [GFlopps/Watts] mean efficiency\n",
      "     5.684376506 [GFlopps/Watts] max efficiency\n",
      "Power\n",
      "     1 systems\n",
      "     0.4438378691 [GFlopps/Watts] mean efficiency\n",
      "     0.4438378691 [GFlopps/Watts] max efficiency\n",
      "PowerPC\n",
      "     1 systems\n",
      "     2.178237443 [GFlopps/Watts] mean efficiency\n",
      "     2.178237443 [GFlopps/Watts] max efficiency\n",
      "ShenWei\n",
      "     1 systems\n",
      "     6.051304006 [GFlopps/Watts] mean efficiency\n",
      "     6.051304006 [GFlopps/Watts] max efficiency\n",
      "Sparc\n",
      "     1 systems\n",
      "     1.910554345 [GFlopps/Watts] mean efficiency\n",
      "     1.910554345 [GFlopps/Watts] max efficiency\n",
      "ThunderX2\n",
      "     1 systems\n",
      "     1.537055361 [GFlopps/Watts] mean efficiency\n",
      "     1.537055361 [GFlopps/Watts] max efficiency\n"
     ]
    }
   ],
   "source": [
    "d = {'Intel Cascade lake':'Intel Cascade Lake'}\n",
    "df=df.replace(d)\n",
    "d = {'AMD Zen-2 (Rome)':'AMD Zen 2 (Rome)'}\n",
    "df=df.replace(d)\n",
    "df5 = df.copy()\n",
    "for processor, g in df.groupby(\"Processor Technology\"):\n",
    "    print(processor)\n",
    "    print(\"     {} systems\".format(len(g)))\n",
    "    print(\"     {} [GFlopps/Watts] mean efficiency\".format(g[\"Power Efficiency [GFlops/Watts]\"].mean()))\n",
    "    print(\"     {} [GFlopps/Watts] max efficiency\".format(g[\"Power Efficiency [GFlops/Watts]\"].max()))\n",
    "    if len(g) <= 5:\n",
    "        df5 = df5[df5[\"Processor Technology\"] != processor]"
   ]
  },
  {
   "cell_type": "code",
   "execution_count": 11,
   "metadata": {
    "pycharm": {
     "name": "#%%\n"
    }
   },
   "outputs": [
    {
     "name": "stdout",
     "output_type": "stream",
     "text": [
      "saving and cropping  ../../paper/fig/green500-pe.pdf\n"
     ]
    },
    {
     "data": {
      "image/png": "[encoded data removed]",
      "text/plain": [
       "<Figure size 288x144 with 1 Axes>"
      ]
     },
     "metadata": {
      "needs_background": "light"
     },
     "output_type": "display_data"
    }
   ],
   "source": [
    "# Fix bad unit\n",
    "rcParams['figure.figsize'] = 4, 2\n",
    "_pe = \"Power Efficiency [GFlops/W]\"\n",
    "df5[_pe] = df5[\"Power Efficiency [GFlops/Watts]\"]\n",
    "sns.boxplot(\n",
    "    data=df5,\n",
    "    y=\"Processor Technology\",\n",
    "    x=_pe,\n",
    ")\n",
    "plt.gca().set_ylabel(\"\")\n",
    "plt.gca().set_xlim(0,6)\n",
    "savefig(\"green500-pe\")"
   ]
  },
  {
   "cell_type": "code",
   "execution_count": 6,
   "metadata": {
    "pycharm": {
     "name": "#%%\n"
    }
   },
   "outputs": [],
   "source": []
  }
 ],
 "metadata": {
  "kernelspec": {
   "display_name": "Python 3",
   "language": "python",
   "name": "python3"
  },
  "language_info": {
   "codemirror_mode": {
    "name": "ipython",
    "version": 3
   },
   "file_extension": ".py",
   "mimetype": "text/x-python",
   "name": "python",
   "nbconvert_exporter": "python",
   "pygments_lexer": "ipython3",
   "version": "3.8.5"
  }
 },
 "nbformat": 4,
 "nbformat_minor": 1
}
