{
 "cells": [
  {
   "cell_type": "markdown",
   "metadata": {},
   "source": [
    "# L3 single reader bandwidth, accesses by Core 0, Frequencies of Core 0 and 1 altered, Conway, I/O-Die in p-state P0"
   ]
  },
  {
   "cell_type": "markdown",
   "metadata": {},
   "source": [
    "## Load necessary depencencies"
   ]
  },
  {
   "cell_type": "code",
   "execution_count": 1,
   "metadata": {},
   "outputs": [],
   "source": [
    "import numpy\n",
    "import csv\n",
    "import re\n",
    "import os\n",
    "import matplotlib.pyplot as plt\n",
    "import matplotlib"
   ]
  },
  {
   "cell_type": "markdown",
   "metadata": {},
   "source": [
    "## Define functions"
   ]
  },
  {
   "cell_type": "code",
   "execution_count": 2,
   "metadata": {},
   "outputs": [],
   "source": [
    "# taken from https://github.com/kloopuk/log-progress\n",
    "\n",
    "# MIT License\n",
    "#\n",
    "# Copyright (c) 2016 bureaucratic-labs\n",
    "# \n",
    "# Permission is hereby granted, free of charge, to any person obtaining a copy\n",
    "# of this software and associated documentation files (the \"Software\"), to deal\n",
    "# in the Software without restriction, including without limitation the rights\n",
    "# to use, copy, modify, merge, publish, distribute, sublicense, and/or sell\n",
    "# copies of the Software, and to permit persons to whom the Software is\n",
    "# furnished to do so, subject to the following conditions:\n",
    "#\n",
    "# The above copyright notice and this permission notice shall be included in all\n",
    "# copies or substantial portions of the Software.\n",
    "#\n",
    "# THE SOFTWARE IS PROVIDED \"AS IS\", WITHOUT WARRANTY OF ANY KIND, EXPRESS OR\n",
    "# IMPLIED, INCLUDING BUT NOT LIMITED TO THE WARRANTIES OF MERCHANTABILITY,\n",
    "# FITNESS FOR A PARTICULAR PURPOSE AND NONINFRINGEMENT. IN NO EVENT SHALL THE\n",
    "# AUTHORS OR COPYRIGHT HOLDERS BE LIABLE FOR ANY CLAIM, DAMAGES OR OTHER\n",
    "# LIABILITY, WHETHER IN AN ACTION OF CONTRACT, TORT OR OTHERWISE, ARISING FROM,\n",
    "# OUT OF OR IN CONNECTION WITH THE SOFTWARE OR THE USE OR OTHER DEALINGS IN THE\n",
    "# SOFTWARE.\n",
    "\n",
    "def log_progress(sequence, every=None, size=None, name='Items'):\n",
    "    from ipywidgets import IntProgress, HTML, VBox\n",
    "    from IPython.display import display\n",
    "\n",
    "    is_iterator = False\n",
    "    if size is None:\n",
    "        try:\n",
    "            size = len(sequence)\n",
    "        except TypeError:\n",
    "            is_iterator = True\n",
    "    if size is not None:\n",
    "        if every is None:\n",
    "            if size <= 200:\n",
    "                every = 1\n",
    "            else:\n",
    "                every = int(size / 200)     # every 0.5%\n",
    "    else:\n",
    "        assert every is not None, 'sequence is iterator, set every'\n",
    "\n",
    "    if is_iterator:\n",
    "        progress = IntProgress(min=0, max=1, value=1)\n",
    "        progress.bar_style = 'info'\n",
    "    else:\n",
    "        progress = IntProgress(min=0, max=size, value=0)\n",
    "    label = HTML()\n",
    "    box = VBox(children=[label, progress])\n",
    "    display(box)\n",
    "\n",
    "    index = 0\n",
    "    try:\n",
    "        for index, record in enumerate(sequence, 1):\n",
    "            if index == 1 or index % every == 0:\n",
    "                if is_iterator:\n",
    "                    label.value = '{name}: {index} / ?'.format(\n",
    "                        name=name,\n",
    "                        index=index\n",
    "                    )\n",
    "                else:\n",
    "                    progress.value = index\n",
    "                    label.value = u'{name}: {index} / {size}'.format(\n",
    "                        name=name,\n",
    "                        index=index,\n",
    "                        size=size\n",
    "                    )\n",
    "            yield record\n",
    "    except:\n",
    "        progress.bar_style = 'danger'\n",
    "        raise\n",
    "    else:\n",
    "        progress.bar_style = 'success'\n",
    "        progress.value = index\n",
    "        label.value = \"{name}: {index}\".format(\n",
    "            name=name,\n",
    "            index=str(index or '?')\n",
    "        )"
   ]
  },
  {
   "cell_type": "code",
   "execution_count": 3,
   "metadata": {},
   "outputs": [],
   "source": [
    "# generate lists of files with files according to search parameters\n",
    "def listgenerator (filelist, startstring, searchpara, retlist):\n",
    "\n",
    "    searchpara = searchpara + \"\\\"\"\n",
    "    \n",
    "    for file in filelist:\n",
    "        for line in open(file):\n",
    "            if line.startswith(startstring):\n",
    "                if searchpara in line:\n",
    "                    retlist.append(file)"
   ]
  },
  {
   "cell_type": "code",
   "execution_count": 4,
   "metadata": {},
   "outputs": [],
   "source": [
    "def evaluation(filelist, size, freq0, freq1, unitswitch):\n",
    "    \n",
    "    csvvalues = numpy.array([])\n",
    "    datapoints = numpy.array([])\n",
    "    evaluation_vals = numpy.array([])\n",
    "\n",
    "\n",
    "    # use measurements for same core from run with core 1\n",
    "    coreline = \"BENCHIT_KERNEL_CPU_LIST=\\\"0\\\"\"\n",
    "\n",
    "    core_found = False\n",
    "    data_found = False\n",
    "\n",
    "\n",
    "    # iterate over lines in file\n",
    "    for file in filelist:\n",
    "\n",
    "        # empty arrays\n",
    "        csvvalues = numpy.array([])\n",
    "        datapoints = numpy.array([])\n",
    "\n",
    "        core_found = False\n",
    "        data_found = False\n",
    "\n",
    "        for line in open(file):\n",
    "            \n",
    "            # only evaluate files with relevant frequency settings\n",
    "            if line.startswith('comment='):\n",
    "                if not line.startswith('comment=\\\"Core0 at ' + freq0 + 'MHz, Core1 at ' + freq1 + 'MHz\\\"'):\n",
    "                    break\n",
    "                \n",
    "            # check if file has data for core\n",
    "            if line.startswith(coreline):\n",
    "                core_found = True\n",
    "\n",
    "            # data begins after \"beginofdata\" string, only search for this when coreline has been found in file\n",
    "            if line.startswith(\"beginofdata\") and core_found == True:\n",
    "                data_found = True\n",
    "\n",
    "            # append data to values array, make sure that no strings are appended\n",
    "            if data_found == True and not line.startswith(\"endofdata\") and not line.startswith(\"beginofdata\"):\n",
    "\n",
    "                # append values\n",
    "                csvvalues = numpy.append(csvvalues, float(line.split()[int(1)]))\n",
    "\n",
    "                # append data sizes\n",
    "                datapoints = numpy.append(datapoints, str(line.split()[0]))\n",
    "\n",
    "        # process data only when wanted data has been found in file\n",
    "        if data_found == True:\n",
    "\n",
    "            # find data size string in datapoints array\n",
    "            index = numpy.where(datapoints == size)\n",
    "            \n",
    "            # save latency value for given data size and next 4 values to array\n",
    "            if unitswitch:\n",
    "                for i in range(4):\n",
    "                    evaluation_vals = numpy.append(evaluation_vals, \n",
    "                                                   ( csvvalues[index[0] + i] / (float(freq0)/1000) ) )\n",
    "            else:\n",
    "                for i in range(4):\n",
    "                    evaluation_vals = numpy.append(evaluation_vals, csvvalues[index[0] + i])\n",
    "\n",
    "    # calculate average\n",
    "    # save min and max value as error\n",
    "    median = numpy.average(evaluation_vals)\n",
    "    maximum = abs(max(evaluation_vals))\n",
    "    minimum = abs(min(evaluation_vals))\n",
    "\n",
    "    return(median, maximum, minimum)"
   ]
  },
  {
   "cell_type": "code",
   "execution_count": 18,
   "metadata": {},
   "outputs": [],
   "source": [
    "# plotter function\n",
    "def plotter(medians, maxima, minima, Core0Frequencies, Core1Frequencies, baseFreqs, machine):\n",
    "   \n",
    "    df = maxima\n",
    "\n",
    "    fig, ax = plt.subplots()\n",
    "    im = ax.imshow(df, cmap='jet')\n",
    "    \n",
    "    # set title according to memory level, CPU architecture, machine designation\n",
    "    #ax.set_title('L3 Bandwidth in [GB/s], on ' + machine + '\\n')\n",
    "    \n",
    "    xlabels = numpy.array(len(baseFreqs) * Core0Frequencies)\n",
    "    ylabels = numpy.array(Core1Frequencies)\n",
    "   \n",
    "    # as many x-ticks as memory locations\n",
    "    x = numpy.arange(len(xlabels))\n",
    "    y = numpy.arange(len(ylabels))\n",
    "    \n",
    "    ax.set_xlabel('Frequency of reading core [MHz]', fontsize='x-large')\n",
    "    ax.set_ylabel('Frequency of remaining\\ncores [MHz]', fontsize='x-large')\n",
    "\n",
    "    # use instructions as xticks\n",
    "    ax.set_xticks(x)\n",
    "    ax.set_yticks(y)\n",
    "    ax.set_xticklabels(xlabels, rotation=0, ha='center', rotation_mode='anchor', size='x-large') \n",
    "    ax.set_yticklabels(ylabels, rotation=0, ha='right', rotation_mode='anchor', size='x-large') #size='x-small',\n",
    "    \n",
    "    # create colorbar\n",
    "    cbarlabel = 'Bandwidth in [GB/s]'\n",
    "    \n",
    "    # define cbarticks that are evenly spread across value range and include min and max values\n",
    "    steps = 4\n",
    "    \n",
    "    cbarticks = []\n",
    "    \n",
    "    cbarticks.append(round(df.min()+0.5))\n",
    "    cbarticks.append(round(df.max()-0.5))\n",
    "    \n",
    "    for i in range(1,steps):\n",
    "        cbarticks.append(round(df.min() + ((df.max()-df.min()) * float(i)/steps)))\n",
    "\n",
    "    cbar = ax.figure.colorbar(im, shrink=1, pad=0.01, ticks=cbarticks)\n",
    "    cbar.ax.set_ylabel(cbarlabel, rotation=+90, va=\"top\", fontsize='x-large')\n",
    "    cbar.ax.set_yticklabels(cbarticks, size='x-large')\n",
    "    \n",
    "    # set color for font depending on value\n",
    "    thresholdLower = im.norm(df.max())/3.\n",
    "    thresholdUpper = im.norm(df.max())/1.2\n",
    "   \n",
    "    textcolors=(\"white\", \"black\")\n",
    "    \n",
    "    # Loop over data dimensions and create text annotations.\n",
    "    for j in range(len(xlabels)):\n",
    "        for i in range(len(ylabels)):\n",
    "            if df[i, j] > 100:\n",
    "                value = round(df[i, j])\n",
    "            else:\n",
    "                value = round(df[i, j], 1)\n",
    "\n",
    "            text = ax.text(j, i, value,\n",
    "                           ha=\"center\", va=\"center\", size=\"large\",\n",
    "                           color=textcolors[int(im.norm(df[i, j]) > \n",
    "                                                thresholdLower and im.norm(df[i, j]) < \n",
    "                                                thresholdUpper)]) \n",
    "    \n",
    "    # ensure proper layout\n",
    "    fig.tight_layout()\n",
    "        \n",
    "    # save plot to file\n",
    "    filename = '../../paper/fig/' + machine + '-L3-single_reader_bandwidth-reduced.pdf'\n",
    "    \n",
    "    matplotlib.pyplot.savefig(filename, dpi=300, format='pdf') \n",
    "    print(filename + ' has been saved to disk.')\n"
   ]
  },
  {
   "cell_type": "markdown",
   "metadata": {},
   "source": [
    "## Create file lists"
   ]
  },
  {
   "cell_type": "code",
   "execution_count": 6,
   "metadata": {},
   "outputs": [
    {
     "data": {
      "application/vnd.jupyter.widget-view+json": {
       "model_id": "3cb956e31bf54ae7adf16fc5dac2c577",
       "version_major": 2,
       "version_minor": 0
      },
      "text/plain": [
       "VBox(children=(HTML(value=''), IntProgress(value=0, max=3)))"
      ]
     },
     "metadata": {},
     "output_type": "display_data"
    }
   ],
   "source": [
    "# get list of all files in directory\n",
    "paths = ['datafiles-base_1500MHz', 'datafiles-base_2200MHz', 'datafiles-base_2500MHz' ]\n",
    "\n",
    "filelist = [],[],[]\n",
    "\n",
    "for path in log_progress(paths):\n",
    "    index = paths.index(path)\n",
    "    \n",
    "    for entry in os.scandir(path): \n",
    "        filelist[index].append(entry.path)\n"
   ]
  },
  {
   "cell_type": "code",
   "execution_count": 7,
   "metadata": {},
   "outputs": [
    {
     "data": {
      "application/vnd.jupyter.widget-view+json": {
       "model_id": "61606fccb8364b558ef6285586027813",
       "version_major": 2,
       "version_minor": 0
      },
      "text/plain": [
       "VBox(children=(HTML(value=''), IntProgress(value=0, max=3)))"
      ]
     },
     "metadata": {},
     "output_type": "display_data"
    },
    {
     "name": "stdout",
     "output_type": "stream",
     "text": [
      "Files in list for instruction vmovdqa: 90\n",
      "Files in list for instruction vmovdqa: 90\n",
      "Files in list for instruction vmovdqa: 90\n"
     ]
    }
   ],
   "source": [
    "files = [],[],[] # one array for each baseline frequency\n",
    "instruction = 'vmovdqa'\n",
    "\n",
    "for path in log_progress(paths):\n",
    "    index = paths.index(path)\n",
    "    listgenerator(filelist[index], 'BENCHIT_KERNEL_INSTRUCTION', instruction, files[index])\n",
    "\n",
    "    print(\"Files in list for instruction \" + str(instruction) + \": \" + str(len(files[index])))"
   ]
  },
  {
   "cell_type": "markdown",
   "metadata": {},
   "source": [
    "## Process data"
   ]
  },
  {
   "cell_type": "code",
   "execution_count": 8,
   "metadata": {},
   "outputs": [
    {
     "data": {
      "application/vnd.jupyter.widget-view+json": {
       "model_id": "d8b2f39dec1d43dabd8f82fd50ed7d98",
       "version_major": 2,
       "version_minor": 0
      },
      "text/plain": [
       "VBox(children=(HTML(value=''), IntProgress(value=0, max=1)))"
      ]
     },
     "metadata": {},
     "output_type": "display_data"
    }
   ],
   "source": [
    "size = '5.0184e+06'\n",
    "\n",
    "Core0Frequencies = ['1500', '2200', '2500']\n",
    "Core1Frequencies = ['2500', '2200', '1500']\n",
    "baseFreqs = ['1500']\n",
    "\n",
    "\n",
    "# arrays for results in [ns]\n",
    "medians = numpy.zeros([len(Core0Frequencies), len(Core1Frequencies) * len(baseFreqs)]) # States, Datasizes, Core 1, Core 2\n",
    "maxima = numpy.zeros([len(Core0Frequencies), len(Core1Frequencies) * len(baseFreqs)])\n",
    "minima = numpy.zeros([len(Core0Frequencies), len(Core1Frequencies) * len(baseFreqs)])\n",
    "\n",
    "\n",
    "for baseFreq in log_progress(baseFreqs):\n",
    "    baseFreq_index = baseFreqs.index(baseFreq)\n",
    "    \n",
    "    for Core0Freq in Core0Frequencies:\n",
    "        Core0Freq_index = Core0Frequencies.index(Core0Freq)\n",
    "\n",
    "        for Core1Freq in Core1Frequencies:\n",
    "            Core1Freq_index = Core1Frequencies.index(Core1Freq)\n",
    "             \n",
    "            medians[Core1Freq_index][baseFreq_index * len(Core1Frequencies) + Core0Freq_index], \\\n",
    "            maxima[Core1Freq_index][baseFreq_index * len(Core1Frequencies) + Core0Freq_index],\\\n",
    "            minima[Core1Freq_index][baseFreq_index * len(Core1Frequencies) + Core0Freq_index] = \\\n",
    "            evaluation(files[baseFreq_index], size, Core0Freq, Core1Freq, 0)\n"
   ]
  },
  {
   "cell_type": "markdown",
   "metadata": {},
   "source": [
    "## Plot Data"
   ]
  },
  {
   "cell_type": "code",
   "execution_count": 20,
   "metadata": {},
   "outputs": [
    {
     "name": "stdout",
     "output_type": "stream",
     "text": [
      "../../paper/fig/AMD EPYC 7502-L3-single_reader_bandwidth-reduced.pdf has been saved to disk.\n"
     ]
    },
    {
     "data": {
      "image/png": "[encoded data removed]",
      "text/plain": [
       "<Figure size 432x288 with 2 Axes>"
      ]
     },
     "metadata": {
      "needs_background": "light"
     },
     "output_type": "display_data"
    }
   ],
   "source": [
    "plotter(medians, maxima, minima, Core0Frequencies, Core1Frequencies, baseFreqs, 'AMD EPYC 7502')"
   ]
  },
  {
   "cell_type": "code",
   "execution_count": null,
   "metadata": {},
   "outputs": [],
   "source": []
  }
 ],
 "metadata": {
  "kernelspec": {
   "display_name": "Python 3",
   "language": "python",
   "name": "python3"
  },
  "language_info": {
   "codemirror_mode": {
    "name": "ipython",
    "version": 3
   },
   "file_extension": ".py",
   "mimetype": "text/x-python",
   "name": "python",
   "nbconvert_exporter": "python",
   "pygments_lexer": "ipython3",
   "version": "3.9.1"
  }
 },
 "nbformat": 4,
 "nbformat_minor": 2
}
